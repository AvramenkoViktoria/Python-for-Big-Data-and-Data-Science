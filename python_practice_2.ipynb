{
 "nbformat": 4,
 "nbformat_minor": 0,
 "metadata": {
  "colab": {
   "provenance": []
  },
  "kernelspec": {
   "name": "python3",
   "display_name": "Python 3 (ipykernel)",
   "language": "python"
  },
  "language_info": {
   "name": "python"
  }
 },
 "cells": [
  {
   "cell_type": "markdown",
   "source": [
    "# I. Змінні та памʼять."
   ],
   "metadata": {
    "id": "p9wwt0LZzNvn"
   }
  },
  {
   "cell_type": "markdown",
   "source": [
    "1. Створити змінні, що посилаються на два цілих числа, що однакові за значенням, де значення належить проміжку від -5 до 256. Перевірте, чи будуть ці змінні рівні тільки за значенням або ж ще будуть посилатися на один і той самий обʼєкт в памʼяті? Наведіть код та дайте текстову відповідь нижче."
   ],
   "metadata": {
    "id": "HTJrrm95xSV9"
   }
  },
  {
   "cell_type": "code",
   "metadata": {
    "id": "TATni2vzayjG",
    "ExecuteTime": {
     "end_time": "2025-02-24T20:41:31.594462Z",
     "start_time": "2025-02-24T20:41:31.589042Z"
    }
   },
   "source": [
    "a = 100\n",
    "b = 100\n",
    "\n",
    "print(a == b)  # Expecting true: variables have equal values\n",
    "print(a is b)  # Expecting true: variables refer to the same object"
   ],
   "outputs": [
    {
     "name": "stdout",
     "output_type": "stream",
     "text": [
      "True\n",
      "True\n"
     ]
    }
   ],
   "execution_count": 9
  },
  {
   "cell_type": "markdown",
   "source": "Змінні будуть мати однакове значення, оскільки ми надали їм однакові значення в коді (100 і 100). Змінні будуть посилатись на один і той самий об'єкт, оскільки значення int на проміжку [-5;256] кешуються і кожна змінна, що матиме значення на цьому проміжку, буде посилатись на об'єкт, що створюється автоматично при запуску інтерпретатора і містить в собі ці закешовані значення\n",
   "metadata": {
    "id": "zfRG_o3WbRdg"
   }
  },
  {
   "cell_type": "markdown",
   "source": [
    "2. За допомогою якої функції можна перевірити належність змінної до вказаного типу даних (напр. чи змінна True посилається на значення булевого та цілочисленого типу)?"
   ],
   "metadata": {
    "id": "ISORzt6M3vAt"
   }
  },
  {
   "cell_type": "code",
   "source": [
    "isinstance(object, type)\n",
    "\n",
    "var = True\n",
    "print(isinstance(var, bool))  # Expecting true"
   ],
   "metadata": {
    "id": "9vL9CFaMbfyo",
    "ExecuteTime": {
     "end_time": "2025-02-24T20:43:23.130300Z",
     "start_time": "2025-02-24T20:43:23.124903Z"
    }
   },
   "outputs": [
    {
     "name": "stdout",
     "output_type": "stream",
     "text": [
      "True\n"
     ]
    }
   ],
   "execution_count": 13
  },
  {
   "cell_type": "markdown",
   "source": [
    "# II. Цілі числа та числа з рухомою комою"
   ],
   "metadata": {
    "id": "tRxugKAxwYLw"
   }
  },
  {
   "cell_type": "markdown",
   "source": [
    "3. Створити дві змінні, що посилаються на будь-які ціле число та число з рухомою комою та продемонструвати такі арифметичні операції: додавання, віднімання, ділення, множення, ділення без залишку, ділення по модулю, приведення до ступеню. Всі результати операцій вивести на екран."
   ],
   "metadata": {
    "id": "NLHkgd5Gybc8"
   }
  },
  {
   "cell_type": "code",
   "source": [
    "a = 10\n",
    "b = 1.5\n",
    "\n",
    "# Addition\n",
    "print(f\"Addition: {a} + {b} = {a + b}\")\n",
    "\n",
    "# Subtraction\n",
    "print(f\"Subtraction: {a} - {b} = {a - b}\")\n",
    "\n",
    "# Multiplication\n",
    "print(f\"Multiplication: {a} * {b} = {a * b}\")\n",
    "\n",
    "# Division\n",
    "print(f\"Division: {a} / {b} = {a / b}\")\n",
    "\n",
    "# Floor division\n",
    "print(f\"Floor division: {a} // {b} = {a // b}\")\n",
    "\n",
    "# Mod\n",
    "print(f\"Mod: {a} % {b} = {a % b}\")\n",
    "\n",
    "# Power\n",
    "print(f\"Power: {a} ** {b} = {a ** b}\")"
   ],
   "metadata": {
    "id": "nb8u_3pjb2cA",
    "ExecuteTime": {
     "end_time": "2025-02-24T20:43:03.733320Z",
     "start_time": "2025-02-24T20:43:03.725457Z"
    }
   },
   "outputs": [
    {
     "name": "stdout",
     "output_type": "stream",
     "text": [
      "Addition: 10 + 1.5 = 11.5\n",
      "Subtraction: 10 - 1.5 = 8.5\n",
      "Multiplication: 10 * 1.5 = 15.0\n",
      "Division: 10 / 1.5 = 6.666666666666667\n",
      "Floor division: 10 // 1.5 = 6.0\n",
      "Mod: 10 % 1.5 = 1.0\n",
      "Power: 10 ** 1.5 = 31.622776601683793\n"
     ]
    }
   ],
   "execution_count": 12
  },
  {
   "cell_type": "markdown",
   "source": [
    "4. Використовуючи змінні з вправи 3, продемонструйте механізм явного перетворення типів, де числа з рухомою комою перетворюються на цілі числа. Також визначте змінну, що посилається на значення булевого типу і спробуйте явно привести її до цілого числа."
   ],
   "metadata": {
    "id": "1kBClKgPzZnC"
   }
  },
  {
   "cell_type": "code",
   "source": [
    "a = 10\n",
    "b = 1.5\n",
    "x = True\n",
    "\n",
    "b_to_int = int(b)\n",
    "x_to_int = int(x)\n",
    "\n",
    "print(type(a) == type(b_to_int)) # Expecting true\n",
    "print(type(a) == type(x_to_int)) # Expecting true"
   ],
   "metadata": {
    "id": "TbqJbkeUcKsD",
    "ExecuteTime": {
     "end_time": "2025-02-24T20:49:42.862342Z",
     "start_time": "2025-02-24T20:49:42.856503Z"
    }
   },
   "outputs": [
    {
     "name": "stdout",
     "output_type": "stream",
     "text": [
      "True\n",
      "True\n"
     ]
    }
   ],
   "execution_count": 15
  },
  {
   "cell_type": "markdown",
   "source": [
    "# IІІ. Рядки (String)."
   ],
   "metadata": {
    "id": "EVJ7AflwxrZi"
   }
  },
  {
   "cell_type": "markdown",
   "source": [
    "5. Створити пустий рядок двома різними способами."
   ],
   "metadata": {
    "id": "_s5ECzz9zE61"
   }
  },
  {
   "cell_type": "code",
   "source": [
    "s1 = \"\"\n",
    "s2 = str()"
   ],
   "metadata": {
    "id": "fkZJHu9Scvc-"
   },
   "execution_count": null,
   "outputs": []
  },
  {
   "cell_type": "markdown",
   "source": [
    "6. Створити рядок з апострофом. Зробити його сирим. Вивести обидва рядка на екран."
   ],
   "metadata": {
    "id": "4Bdn9J3MzLf_"
   }
  },
  {
   "cell_type": "code",
   "source": [
    "reg_str = \"I'm writing a string\"\n",
    "raw_str = r\"I'm writing a string\"\n",
    "\n",
    "print(f\"Regular string: {reg_str}\")\n",
    "print(f\"Raw string: {raw_str}\")"
   ],
   "metadata": {
    "id": "ivji_hsmc0GH",
    "ExecuteTime": {
     "end_time": "2025-02-24T20:54:45.897969Z",
     "start_time": "2025-02-24T20:54:45.892294Z"
    }
   },
   "outputs": [
    {
     "name": "stdout",
     "output_type": "stream",
     "text": [
      "Regular string: I'm writing a string\n",
      "Raw string: I'm writing a string\n"
     ]
    }
   ],
   "execution_count": 16
  },
  {
   "cell_type": "markdown",
   "source": [
    "7. Створити змінну, що буде посилатися на Ваше прізвище латинкою. Створити форматований рядок, який буде мати вигляд \"My surname is ______\", де на місці нижніх підкреслень буде Ваше прізвище зі змінної."
   ],
   "metadata": {
    "id": "bg_d8wM4z8dS"
   }
  },
  {
   "cell_type": "code",
   "source": [
    "surname = \"Avramenko\"\n",
    "formatted_str = f\"My surname is {surname}\"\n",
    "print(formatted_str)"
   ],
   "metadata": {
    "id": "kuxFgpWndACq",
    "ExecuteTime": {
     "end_time": "2025-02-24T20:57:48.046492Z",
     "start_time": "2025-02-24T20:57:48.042571Z"
    }
   },
   "outputs": [
    {
     "name": "stdout",
     "output_type": "stream",
     "text": [
      "My surname is Avramenko\n"
     ]
    }
   ],
   "execution_count": 17
  },
  {
   "cell_type": "markdown",
   "source": [
    "8. Маючи рядок \"My dog is crazy.\" перетворити його на список [\"my\", \"dog\", \"is\", \"crazy\"]"
   ],
   "metadata": {
    "id": "1Nc6RqvQ0hxU"
   }
  },
  {
   "cell_type": "code",
   "source": [
    "import re\n",
    "\n",
    "str = \"My dog is crazy.\"\n",
    "words_list = re.split(r\"\\W+\", str.lower()) # Split the string by non-alphanumeric characters\n",
    "words_list = list(filter(None, words_list)) # Filter out empty strings\n",
    "\n",
    "print(words_list)"
   ],
   "metadata": {
    "id": "w1Ya4RqedUhw",
    "ExecuteTime": {
     "end_time": "2025-02-24T21:04:36.465566Z",
     "start_time": "2025-02-24T21:04:36.452587Z"
    }
   },
   "outputs": [
    {
     "name": "stdout",
     "output_type": "stream",
     "text": [
      "['my', 'dog', 'is', 'crazy']\n"
     ]
    }
   ],
   "execution_count": 20
  },
  {
   "cell_type": "markdown",
   "source": [
    "# IV. Робота зі списками."
   ],
   "metadata": {
    "id": "GYVqN9uP1D4n"
   }
  },
  {
   "cell_type": "markdown",
   "source": [
    "9. Створити список двома різними за синтаксисом способами. За допомогою вбудованої функції обчисліть довжину одного з них."
   ],
   "metadata": {
    "id": "7-DeDunw2sO-"
   }
  },
  {
   "cell_type": "code",
   "source": [
    "list1 = [1, 2, 3, 4, 5]\n",
    "list2 = list((1, 2, 3, 4, 5))\n",
    "\n",
    "print(f\"The length of list1: {len(list1)}\")\n",
    "print(f\"The length of list2: {len(list2)}\")"
   ],
   "metadata": {
    "id": "zxg06Uuxdyoh"
   },
   "execution_count": null,
   "outputs": []
  },
  {
   "cell_type": "markdown",
   "source": [
    "10. Створіть два списка та за допомогою спеціального методу додайте другий з них в якості останнього елемента першого."
   ],
   "metadata": {
    "id": "8vmGUTjL22gI"
   }
  },
  {
   "cell_type": "code",
   "source": [
    "list1 = [1, 2, 3]\n",
    "list2 = [4, 5, 6]\n",
    "list1.append(list2)\n",
    "print(list1)"
   ],
   "metadata": {
    "id": "uHtjWYw7d7hm",
    "ExecuteTime": {
     "end_time": "2025-02-24T21:13:10.126909Z",
     "start_time": "2025-02-24T21:13:10.122019Z"
    }
   },
   "outputs": [
    {
     "name": "stdout",
     "output_type": "stream",
     "text": [
      "[1, 2, 3, [4, 5, 6]]\n"
     ]
    }
   ],
   "execution_count": 21
  },
  {
   "cell_type": "markdown",
   "source": [
    "11. Створіть список, де елементами цього списку також є списки. Отримай перший елемент з останнього рядка та виведи значення на екран."
   ],
   "metadata": {
    "id": "JC3BkD-67_--"
   }
  },
  {
   "metadata": {},
   "cell_type": "markdown",
   "source": ""
  },
  {
   "cell_type": "code",
   "source": [
    "list = [[1, 2, 3], [4, 5, 6], [7, 8, 9]]\n",
    "first_element = list[-1][0]\n",
    "print(f\"First element int the last list: {first_element}\")"
   ],
   "metadata": {
    "id": "Kz2jZHsGeLlz"
   },
   "execution_count": null,
   "outputs": []
  },
  {
   "cell_type": "markdown",
   "source": [
    "12. Створіть список з десяти елементів різного типу. Отримайте всі елементи, окрім двох перших та двох останніх та збережіть їх в новій змінній."
   ],
   "metadata": {
    "id": "JA47PKTv8zFK"
   }
  },
  {
   "cell_type": "code",
   "source": [
    "list = [True, \"Hello World\", 100, [True, False], (255, 0, 0), None, {'name': 'Vika', 'age': 19}, 2.56, 3.14, 400]\n",
    "cropped_list = list[2:-2]\n",
    "print(cropped_list)"
   ],
   "metadata": {
    "id": "_rHdUR-ueP4-",
    "ExecuteTime": {
     "end_time": "2025-02-24T21:17:59.921015Z",
     "start_time": "2025-02-24T21:17:59.913972Z"
    }
   },
   "outputs": [
    {
     "name": "stdout",
     "output_type": "stream",
     "text": [
      "[100, [True, False], (255, 0, 0), None, {'name': 'Alice', 'age': 30}, 2.56]\n"
     ]
    }
   ],
   "execution_count": 22
  },
  {
   "cell_type": "markdown",
   "source": [
    "# V. Робота з кортежами."
   ],
   "metadata": {
    "id": "pCjR1dJb1Qbi"
   }
  },
  {
   "cell_type": "markdown",
   "source": "14. Створити кортеж з одним елементом.",
   "metadata": {
    "id": "fAZCxAX06R_k"
   }
  },
  {
   "cell_type": "code",
   "source": "tuple = (\"Vika\",)",
   "metadata": {
    "id": "H7d82WkQev3e",
    "ExecuteTime": {
     "end_time": "2025-02-24T21:20:29.715315Z",
     "start_time": "2025-02-24T21:20:29.709876Z"
    }
   },
   "outputs": [],
   "execution_count": 24
  },
  {
   "cell_type": "markdown",
   "source": [
    "15. Порівняйте список та кортеж. Назвіть схожості та відмінності, випадки використання."
   ],
   "metadata": {
    "id": "8LCtYcmI6w1M"
   }
  },
  {
   "metadata": {},
   "cell_type": "markdown",
   "source": "Cхожості: Обидва є послідовними типами даних, відповідно об'єкти знаходяться у сусідніх комірках пам'яті. Для обох працює функція len(). Обидва типи - ітеровані. Можуть містити будь-які типи даних."
  },
  {
   "metadata": {},
   "cell_type": "markdown",
   "source": "Відмінності: Список - mutable, кортеж - immutable. Кортеж займає менше пам'яті та копіюється швидше, ніж список."
  },
  {
   "metadata": {},
   "cell_type": "markdown",
   "source": "Використання: кортеж використовується, коли потрібно створити список констант."
  },
  {
   "cell_type": "markdown",
   "source": [
    "16. Створіть кортеж з 11ти елементів чисел з рухомою комою та отримайте кожен парний за індексом елемент в зворотньому порядку. Наприклад, маючи (1.2, 2.3, 3.3, 4.3, 5.3, 6.3, 7.3, 8.3, 9.3, 0.3), отримати (0.3, 8.3, 6.3, 4.3, 2.3). Результат збережіть в нову змінну та виведіть на екран."
   ],
   "metadata": {
    "id": "m0xrwFijAmDD"
   }
  },
  {
   "cell_type": "code",
   "source": [
    "tuple = (1.0, 2.0, 3.0, 4.0, 5.0, 6.0, 7.0, 8.0, 9.0, 10.0, 11.0)\n",
    "result = tuple[-1::-2]\n",
    "print(result)"
   ],
   "metadata": {
    "id": "p-5DAH6XfAGA",
    "ExecuteTime": {
     "end_time": "2025-02-24T21:50:20.205191Z",
     "start_time": "2025-02-24T21:50:20.198845Z"
    }
   },
   "outputs": [
    {
     "name": "stdout",
     "output_type": "stream",
     "text": [
      "(11.0, 9.0, 7.0, 5.0, 3.0, 1.0)\n"
     ]
    }
   ],
   "execution_count": 27
  },
  {
   "cell_type": "markdown",
   "source": [
    "# VI. Множини (Set)."
   ],
   "metadata": {
    "id": "rW_I9dt3x6cW"
   }
  },
  {
   "cell_type": "markdown",
   "source": [
    "17. Створити множину без елементів. Після цого за допомогою методу додайте кілька різних елементів до множини. Чи множини є змінним типом даних?"
   ],
   "metadata": {
    "id": "zNjRLHLw1Bgg"
   }
  },
  {
   "metadata": {},
   "cell_type": "code",
   "outputs": [],
   "execution_count": null,
   "source": [
    "my_set = set()\n",
    "my_set.add(1.0)\n",
    "my_set.add(\"Vika\")\n",
    "my_set.add(None)\n",
    "my_set.add(True)"
   ]
  },
  {
   "cell_type": "markdown",
   "source": "Так, множини є змінним типом даних. Ми можемо змінювати їхні об'єкти після створення",
   "metadata": {
    "id": "vxS6dVYiftZQ"
   }
  },
  {
   "cell_type": "markdown",
   "source": [
    "18. Створити множину, маючи список my_list = [1, 1, 2, 67, 67, 8, 9]. Пояснити, чому \"зникли\" деякі елементи."
   ],
   "metadata": {
    "id": "gHpT0Zw_1HEF"
   }
  },
  {
   "cell_type": "code",
   "source": [
    "my_list = [1, 1, 2, 67, 67, 8, 9]\n",
    "my_set = set(my_list)\n",
    "print(my_set)"
   ],
   "metadata": {
    "id": "qCN4uvJ_fxmu",
    "ExecuteTime": {
     "end_time": "2025-02-24T21:55:20.981994Z",
     "start_time": "2025-02-24T21:55:20.976364Z"
    }
   },
   "outputs": [
    {
     "name": "stdout",
     "output_type": "stream",
     "text": [
      "{1, 2, 67, 8, 9}\n"
     ]
    }
   ],
   "execution_count": 28
  },
  {
   "cell_type": "markdown",
   "source": "В основі set лежить хеш-таблиця, що не дає можливості зберігати в ній дублікати",
   "metadata": {
    "id": "tFNc1e20fyny"
   }
  },
  {
   "cell_type": "markdown",
   "source": [
    "19. Створіть дві множини. Продемонстуйте над ними операції: обʼєднання, різниці, пересічі та симетричної різниці. Використовуйте методи, що не змінюють множини, а створюють нові."
   ],
   "metadata": {
    "id": "SRMkGizS1UwY"
   }
  },
  {
   "cell_type": "code",
   "source": [
    "set1 = {1, 2, 3, 4, 5}\n",
    "set2 = {4, 5, 6, 7, 8}\n",
    "\n",
    "# Union\n",
    "union_set = set1.union(set2)\n",
    "print(f\"Union: {set1} ∪ {set2} = {union_set}\")\n",
    "\n",
    "# Intersection\n",
    "intersection_set = set1.intersection(set2)\n",
    "print(f\"Intersection: {set1} ∩ {set2} = {intersection_set}\")\n",
    "\n",
    "# Difference\n",
    "difference_set = set1.difference(set2)\n",
    "print(f\"Difference (set1 - set2): {set1} - {set2} = {difference_set}\")\n",
    "\n",
    "# Symmetric difference\n",
    "symmetric_difference_set = set1.symmetric_difference(set2)\n",
    "print(f\"Symmetric difference: {set1} △ {set2} = {symmetric_difference_set}\")"
   ],
   "metadata": {
    "id": "h0T-VuDnf3Ri",
    "ExecuteTime": {
     "end_time": "2025-02-24T22:02:03.868585Z",
     "start_time": "2025-02-24T22:02:03.863185Z"
    }
   },
   "outputs": [
    {
     "name": "stdout",
     "output_type": "stream",
     "text": [
      "Union: {1, 2, 3, 4, 5} ∪ {4, 5, 6, 7, 8} = {1, 2, 3, 4, 5, 6, 7, 8}\n",
      "Intersection: {1, 2, 3, 4, 5} ∩ {4, 5, 6, 7, 8} = {4, 5}\n",
      "Difference (set1 - set2): {1, 2, 3, 4, 5} - {4, 5, 6, 7, 8} = {1, 2, 3}\n",
      "Symmetric difference: {1, 2, 3, 4, 5} △ {4, 5, 6, 7, 8} = {1, 2, 3, 6, 7, 8}\n"
     ]
    }
   ],
   "execution_count": 30
  },
  {
   "cell_type": "markdown",
   "source": [
    "# VII. Словники (Dictionary)."
   ],
   "metadata": {
    "id": "kWc8gkzTx7Ea"
   }
  },
  {
   "cell_type": "markdown",
   "source": [
    "20. Створіть пустий словник. До нього додайте чотири пари елементів такі, щоб їхні ключі були різних типів. Чи може список бути ключем? Чому?"
   ],
   "metadata": {
    "id": "i5FLwj-B2ybQ"
   }
  },
  {
   "metadata": {
    "ExecuteTime": {
     "end_time": "2025-02-24T22:06:56.875244Z",
     "start_time": "2025-02-24T22:06:56.869868Z"
    }
   },
   "cell_type": "code",
   "source": [
    "dict = dict()\n",
    "dict[\"name\"] = \"Alice\"\n",
    "dict[42] = \"Answer\"\n",
    "dict[3.14] = \"Pi\"\n",
    "dict[(1, 2, 3)] = \"Tuple\"\n",
    "print(dict)\n"
   ],
   "outputs": [
    {
     "name": "stdout",
     "output_type": "stream",
     "text": [
      "{'name': 'Alice', 42: 'Answer', 3.14: 'Pi', (1, 2, 3): 'Tuple'}\n"
     ]
    }
   ],
   "execution_count": 31
  },
  {
   "cell_type": "markdown",
   "source": "Ні, список не може бути ключем, оскільки ключами в словниках можуть бути лише хешовані immutable об'єкти",
   "metadata": {
    "id": "zwa7UVN-gR3m"
   }
  },
  {
   "cell_type": "markdown",
   "source": [
    "21. Створіть словник, де значенням в одній з пар теж буде словник, який теж має вкладений словник. Виведіть на екран значення, що міститься в словнику, що знаходиться на найнижчому рівні ієрархії вкладеності (найбільш внутрішній)."
   ],
   "metadata": {
    "id": "WM_pMlJsgoNf"
   }
  },
  {
   "cell_type": "code",
   "source": [
    "nested_dict = {\n",
    "    \"level1\": {\n",
    "        \"level2\": {\n",
    "                \"target\": \"Apples\"\n",
    "        }\n",
    "    }\n",
    "}\n",
    "\n",
    "deep_value = nested_dict[\"level1\"][\"level2\"][\"target\"]\n",
    "print(f\"Deep value: {deep_value}\") # Expecting \"Apples\""
   ],
   "metadata": {
    "id": "60dlP7IHhAy4",
    "ExecuteTime": {
     "end_time": "2025-02-24T22:13:49.856056Z",
     "start_time": "2025-02-24T22:13:49.851487Z"
    }
   },
   "outputs": [
    {
     "name": "stdout",
     "output_type": "stream",
     "text": [
      "Deep value: Apples\n"
     ]
    }
   ],
   "execution_count": 33
  },
  {
   "cell_type": "markdown",
   "source": [
    "# Вітаю! Ви велика(ий) молодець, що впоралась(вся). Похваліть себе та побалуйте чимось приємним. Я Вами пишаюся."
   ],
   "metadata": {
    "id": "xOZP0hkx6cCr"
   }
  }
 ]
}
